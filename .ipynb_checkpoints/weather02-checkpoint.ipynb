{
 "cells": [
  {
   "cell_type": "code",
   "execution_count": 29,
   "metadata": {},
   "outputs": [],
   "source": [
    "import requests\n",
    "import calendar"
   ]
  },
  {
   "cell_type": "code",
   "execution_count": 51,
   "metadata": {},
   "outputs": [],
   "source": [
    "def getwoeid():\n",
    "    while True:\n",
    "        try:\n",
    "            city = input(\"Please enter a city:\\n\").lower()\n",
    "            url = \"https://www.metaweather.com/api/location/search/?query=\"+city\n",
    "            url_return = requests.get(url)\n",
    "            w = url_return.json()\n",
    "            woeid = (w[0]['woeid'])\n",
    "     #       print(f\"The WOEID for {city} is {woeid}.\")\n",
    "            return woeid\n",
    "        except IndexError:\n",
    "            print(\"I can't seem to find that location. Please try another.\")\n"
   ]
  },
  {
   "cell_type": "code",
   "execution_count": 72,
   "metadata": {},
   "outputs": [],
   "source": [
    "def fetch_weather():\n",
    "    woeid = str(getwoeid())\n",
    "    url = 'https://www.metaweather.com/api/location/'+ woeid\n",
    "    w = requests.get(url).json()\n",
    "    return w"
   ]
  },
  {
   "cell_type": "code",
   "execution_count": 73,
   "metadata": {},
   "outputs": [
    {
     "name": "stdout",
     "output_type": "stream",
     "text": [
      "Please enter a city:\n",
      "providence\n",
      "<class 'dict'>\n"
     ]
    },
    {
     "data": {
      "text/plain": [
       "{'consolidated_weather': [{'id': 6234664685535232,\n",
       "   'weather_state_name': 'Heavy Cloud',\n",
       "   'weather_state_abbr': 'hc',\n",
       "   'wind_direction_compass': 'SW',\n",
       "   'created': '2020-06-19T13:52:13.815408Z',\n",
       "   'applicable_date': '2020-06-19',\n",
       "   'min_temp': 19.244999999999997,\n",
       "   'max_temp': 28.855,\n",
       "   'the_temp': 26.369999999999997,\n",
       "   'wind_speed': 6.784953994917681,\n",
       "   'wind_direction': 221.0733588636173,\n",
       "   'air_pressure': 1020.0,\n",
       "   'humidity': 71,\n",
       "   'visibility': 10.453638252604787,\n",
       "   'predictability': 71},\n",
       "  {'id': 6183600678502400,\n",
       "   'weather_state_name': 'Heavy Cloud',\n",
       "   'weather_state_abbr': 'hc',\n",
       "   'wind_direction_compass': 'SW',\n",
       "   'created': '2020-06-19T13:52:17.131093Z',\n",
       "   'applicable_date': '2020-06-20',\n",
       "   'min_temp': 18.1,\n",
       "   'max_temp': 30.085,\n",
       "   'the_temp': 28.45,\n",
       "   'wind_speed': 6.924268335059254,\n",
       "   'wind_direction': 227.32488658757788,\n",
       "   'air_pressure': 1018.0,\n",
       "   'humidity': 63,\n",
       "   'visibility': 12.337635707468383,\n",
       "   'predictability': 71},\n",
       "  {'id': 5357302188081152,\n",
       "   'weather_state_name': 'Heavy Cloud',\n",
       "   'weather_state_abbr': 'hc',\n",
       "   'wind_direction_compass': 'SSW',\n",
       "   'created': '2020-06-19T13:52:19.770692Z',\n",
       "   'applicable_date': '2020-06-21',\n",
       "   'min_temp': 18.4,\n",
       "   'max_temp': 28.475,\n",
       "   'the_temp': 27.08,\n",
       "   'wind_speed': 6.766653739279938,\n",
       "   'wind_direction': 210.17201536083545,\n",
       "   'air_pressure': 1016.5,\n",
       "   'humidity': 69,\n",
       "   'visibility': 10.119340551181102,\n",
       "   'predictability': 71},\n",
       "  {'id': 5686311312687104,\n",
       "   'weather_state_name': 'Showers',\n",
       "   'weather_state_abbr': 's',\n",
       "   'wind_direction_compass': 'SSW',\n",
       "   'created': '2020-06-19T13:52:23.044485Z',\n",
       "   'applicable_date': '2020-06-22',\n",
       "   'min_temp': 18.86,\n",
       "   'max_temp': 29.38,\n",
       "   'the_temp': 28.375,\n",
       "   'wind_speed': 6.842391053636099,\n",
       "   'wind_direction': 208.49349854280516,\n",
       "   'air_pressure': 1014.5,\n",
       "   'humidity': 66,\n",
       "   'visibility': 11.046737055595322,\n",
       "   'predictability': 73},\n",
       "  {'id': 6349450505093120,\n",
       "   'weather_state_name': 'Heavy Cloud',\n",
       "   'weather_state_abbr': 'hc',\n",
       "   'wind_direction_compass': 'SSW',\n",
       "   'created': '2020-06-19T13:52:25.725703Z',\n",
       "   'applicable_date': '2020-06-23',\n",
       "   'min_temp': 20.16,\n",
       "   'max_temp': 32.269999999999996,\n",
       "   'the_temp': 30.189999999999998,\n",
       "   'wind_speed': 6.951616173907048,\n",
       "   'wind_direction': 213.16568020444646,\n",
       "   'air_pressure': 1010.5,\n",
       "   'humidity': 62,\n",
       "   'visibility': 10.102252843394576,\n",
       "   'predictability': 71},\n",
       "  {'id': 6200827456782336,\n",
       "   'weather_state_name': 'Light Cloud',\n",
       "   'weather_state_abbr': 'lc',\n",
       "   'wind_direction_compass': 'SSW',\n",
       "   'created': '2020-06-19T13:52:28.744825Z',\n",
       "   'applicable_date': '2020-06-24',\n",
       "   'min_temp': 21.795,\n",
       "   'max_temp': 32.504999999999995,\n",
       "   'the_temp': 31.57,\n",
       "   'wind_speed': 5.114635528513482,\n",
       "   'wind_direction': 210.0,\n",
       "   'air_pressure': 1008.0,\n",
       "   'humidity': 55,\n",
       "   'visibility': 9.999726596675416,\n",
       "   'predictability': 70}],\n",
       " 'time': '2020-06-19T11:21:44.753865-04:00',\n",
       " 'sun_rise': '2020-06-19T05:10:31.370173-04:00',\n",
       " 'sun_set': '2020-06-19T20:23:34.518027-04:00',\n",
       " 'timezone_name': 'LMT',\n",
       " 'parent': {'title': 'Rhode Island',\n",
       "  'location_type': 'Region / State / Province',\n",
       "  'woeid': 2347598,\n",
       "  'latt_long': '41.661221,-71.555870'},\n",
       " 'sources': [{'title': 'BBC',\n",
       "   'slug': 'bbc',\n",
       "   'url': 'http://www.bbc.co.uk/weather/',\n",
       "   'crawl_rate': 360},\n",
       "  {'title': 'Forecast.io',\n",
       "   'slug': 'forecast-io',\n",
       "   'url': 'http://forecast.io/',\n",
       "   'crawl_rate': 480},\n",
       "  {'title': 'Met Office',\n",
       "   'slug': 'met-office',\n",
       "   'url': 'http://www.metoffice.gov.uk/',\n",
       "   'crawl_rate': 180},\n",
       "  {'title': 'OpenWeatherMap',\n",
       "   'slug': 'openweathermap',\n",
       "   'url': 'http://openweathermap.org/',\n",
       "   'crawl_rate': 360},\n",
       "  {'title': 'World Weather Online',\n",
       "   'slug': 'world-weather-online',\n",
       "   'url': 'http://www.worldweatheronline.com/',\n",
       "   'crawl_rate': 360}],\n",
       " 'title': 'Providence',\n",
       " 'location_type': 'City',\n",
       " 'woeid': 2477058,\n",
       " 'latt_long': '41.823872,-71.411987',\n",
       " 'timezone': 'America/New_York'}"
      ]
     },
     "execution_count": 73,
     "metadata": {},
     "output_type": "execute_result"
    }
   ],
   "source": [
    "fetch_weather()"
   ]
  },
  {
   "cell_type": "code",
   "execution_count": 57,
   "metadata": {},
   "outputs": [],
   "source": [
    "def farenheit(celsius):\n",
    "    farenheit = (celsius*(9/5))+32\n",
    "    return farenheit"
   ]
  },
  {
   "cell_type": "code",
   "execution_count": 58,
   "metadata": {},
   "outputs": [],
   "source": [
    "def weather_forecast():\n",
    "    w = fetch_weather()\n",
    "    days = len(w['consolidated_weather'])\n",
    "    print(\"\\n\")\n",
    "    print(f\"Your {days} day forecast:\\n\")\n",
    "    for forecast in w['consolidated_weather']:\n",
    "        date = forecast['applicable_date']\n",
    "        state = forecast['weather_state_name']\n",
    "        wmin = int(farenheit(forecast['min_temp']))\n",
    "        wmax = int(farenheit(forecast['max_temp']))\n",
    "        hum = forecast['humidity']\n",
    "        print(f\"{date}: {state} with a high of {wmax}, low of {wmin}, and {hum}% humidity.\")"
   ]
  },
  {
   "cell_type": "code",
   "execution_count": 60,
   "metadata": {},
   "outputs": [
    {
     "name": "stdout",
     "output_type": "stream",
     "text": [
      "Please enter a city:\n",
      "providence\n"
     ]
    },
    {
     "ename": "TypeError",
     "evalue": "'method' object is not subscriptable",
     "output_type": "error",
     "traceback": [
      "\u001b[0;31m---------------------------------------------------------------------------\u001b[0m",
      "\u001b[0;31mTypeError\u001b[0m                                 Traceback (most recent call last)",
      "\u001b[0;32m<ipython-input-60-4d8c749f9ae8>\u001b[0m in \u001b[0;36m<module>\u001b[0;34m\u001b[0m\n\u001b[0;32m----> 1\u001b[0;31m \u001b[0mweather_forecast\u001b[0m\u001b[0;34m(\u001b[0m\u001b[0;34m)\u001b[0m\u001b[0;34m\u001b[0m\u001b[0;34m\u001b[0m\u001b[0m\n\u001b[0m",
      "\u001b[0;32m<ipython-input-58-99cbf0044efc>\u001b[0m in \u001b[0;36mweather_forecast\u001b[0;34m()\u001b[0m\n\u001b[1;32m      1\u001b[0m \u001b[0;32mdef\u001b[0m \u001b[0mweather_forecast\u001b[0m\u001b[0;34m(\u001b[0m\u001b[0;34m)\u001b[0m\u001b[0;34m:\u001b[0m\u001b[0;34m\u001b[0m\u001b[0;34m\u001b[0m\u001b[0m\n\u001b[1;32m      2\u001b[0m     \u001b[0mw\u001b[0m \u001b[0;34m=\u001b[0m \u001b[0mfetch_weather\u001b[0m\u001b[0;34m(\u001b[0m\u001b[0;34m)\u001b[0m\u001b[0;34m\u001b[0m\u001b[0;34m\u001b[0m\u001b[0m\n\u001b[0;32m----> 3\u001b[0;31m     \u001b[0mdays\u001b[0m \u001b[0;34m=\u001b[0m \u001b[0mlen\u001b[0m\u001b[0;34m(\u001b[0m\u001b[0mw\u001b[0m\u001b[0;34m[\u001b[0m\u001b[0;34m'consolidated_weather'\u001b[0m\u001b[0;34m]\u001b[0m\u001b[0;34m)\u001b[0m\u001b[0;34m\u001b[0m\u001b[0;34m\u001b[0m\u001b[0m\n\u001b[0m\u001b[1;32m      4\u001b[0m     \u001b[0mprint\u001b[0m\u001b[0;34m(\u001b[0m\u001b[0;34m\"\\n\"\u001b[0m\u001b[0;34m)\u001b[0m\u001b[0;34m\u001b[0m\u001b[0;34m\u001b[0m\u001b[0m\n\u001b[1;32m      5\u001b[0m     \u001b[0mprint\u001b[0m\u001b[0;34m(\u001b[0m\u001b[0;34mf\"Your {days} day forecast:\\n\"\u001b[0m\u001b[0;34m)\u001b[0m\u001b[0;34m\u001b[0m\u001b[0;34m\u001b[0m\u001b[0m\n",
      "\u001b[0;31mTypeError\u001b[0m: 'method' object is not subscriptable"
     ]
    }
   ],
   "source": [
    "weather_forecast()"
   ]
  },
  {
   "cell_type": "code",
   "execution_count": null,
   "metadata": {},
   "outputs": [],
   "source": []
  }
 ],
 "metadata": {
  "kernelspec": {
   "display_name": "Python 3",
   "language": "python",
   "name": "python3"
  },
  "language_info": {
   "codemirror_mode": {
    "name": "ipython",
    "version": 3
   },
   "file_extension": ".py",
   "mimetype": "text/x-python",
   "name": "python",
   "nbconvert_exporter": "python",
   "pygments_lexer": "ipython3",
   "version": "3.7.6"
  }
 },
 "nbformat": 4,
 "nbformat_minor": 4
}
